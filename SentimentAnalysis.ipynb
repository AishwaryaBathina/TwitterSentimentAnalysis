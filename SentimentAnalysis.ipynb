{
 "cells": [
  {
   "cell_type": "markdown",
   "id": "f78b54f7",
   "metadata": {},
   "source": [
    "<b>Connecting to the Twitter API</b>"
   ]
  },
  {
   "cell_type": "code",
   "execution_count": 263,
   "id": "0720432c",
   "metadata": {},
   "outputs": [
    {
     "name": "stdout",
     "output_type": "stream",
     "text": [
      "Authentication is verified\n"
     ]
    }
   ],
   "source": [
    "import tweepy\n",
    "auth = tweepy.OAuthHandler(\"6R6MJUxLEpLIrkSJGiBguKMRv\", \n",
    "    \"eyIukOMw4h9zkUJfMlcrDtJcdUXT9l9WOtgIc0c5dDOf9twdBY\")\n",
    "auth.set_access_token(\"1033566666305589248-r3tbQuBFTyv6NoMomhfYprOkSypSYD\", \n",
    "    \"ewvQW8I3zBMlHwTpg1iDArytjcJ24RwdXRuGJwbJ69cIH\")\n",
    "\n",
    "api = tweepy.API(auth)\n",
    "\n",
    "try:\n",
    "    api.verify_credentials()\n",
    "    print(\"Authentication is verified\")\n",
    "except:\n",
    "    print(\"Authentication Failed\")"
   ]
  },
  {
   "cell_type": "markdown",
   "id": "75dc671c",
   "metadata": {},
   "source": [
    "<b>Extracting the Tweets</b>"
   ]
  },
  {
   "cell_type": "code",
   "execution_count": 115,
   "id": "f731366f",
   "metadata": {},
   "outputs": [],
   "source": [
    "import tweepy\n",
    "import csv\n",
    "\n",
    "hashtags = ['#southerncalifornia']\n",
    "\n",
    "#I have used the following tags for craetion of my dataset.\n",
    "#[\"#USC\", '#fighton', '#uscfootball', '#trojan', '#uscgrad', '#usctrojans', '#universityofsoutherncalifornia', '#uscalumni']\n",
    "\n",
    "unique_tweets = set()\n",
    "\n",
    "for hashtag in hashtags:\n",
    "    for tweet in tweepy.Cursor(api.search_tweets, q=hashtag, lang=\"en\", tweet_mode=\"extended\").items(400):\n",
    "        if tweet not in unique_tweets:\n",
    "            unique_tweets.add(tweet)\n",
    "\n",
    "with open(f\"usc_tweets.csv\", \"a\", newline=\"\", encoding=\"utf-8\") as file:\n",
    "    writer = csv.writer(file)\n",
    "    writer.writerow([\"Username\", \"Date\", \"Time\", \"Tweet\"])\n",
    "    for tweet in unique_tweets:\n",
    "        writer.writerow([tweet.user.screen_name, tweet.created_at.date(), tweet.created_at.time(), tweet.full_text])\n"
   ]
  },
  {
   "cell_type": "markdown",
   "id": "2ca59b37",
   "metadata": {},
   "source": [
    "<b>Preprocessing the Text<b>"
   ]
  },
  {
   "cell_type": "code",
   "execution_count": 243,
   "id": "9d561299",
   "metadata": {},
   "outputs": [],
   "source": [
    "import pandas as pd\n",
    "import re\n",
    "import nltk\n",
    "from nltk.corpus import stopwords\n",
    "from nltk.tokenize import word_tokenize\n",
    "from nltk.stem import PorterStemmer, WordNetLemmatizer\n",
    "\n",
    "def preprocess_tweet(tweet):\n",
    "    tweet = re.sub(r'http\\S+', '', tweet)\n",
    "    tweet = re.sub(r'@\\S+', '', tweet)\n",
    "    tweet = tweet.lower()\n",
    "    tweet = re.sub(r'[^\\w\\s]', '', tweet)\n",
    "    return tweet\n",
    "\n",
    "def tokenize_tweet(tweet):\n",
    "    tokens = word_tokenize(tweet)\n",
    "    tokens = [lemmatizer.lemmatize(stemmer.stem(word)) for word in tokens if word not in stop_words]\n",
    "    return tokens\n",
    "\n",
    "tweet_data = pd.read_csv('usc_tweets.csv')\n",
    "\n",
    "stop_words = set(stopwords.words('english'))\n",
    "stemmer = PorterStemmer()\n",
    "lemmatizer = WordNetLemmatizer()\n",
    "\n",
    "tweet_data['Tweet'] = tweet_data['Tweet'].apply(preprocess_tweet)\n",
    "tweet_data['tokens'] = tweet_data['Tweet'].apply(tokenize_tweet)\n",
    "\n",
    "tweet_data.to_csv('tweets_dataset_preprocessed.csv', index=False)\n"
   ]
  },
  {
   "cell_type": "markdown",
   "id": "4b9e8b4f",
   "metadata": {},
   "source": [
    "<b>Feature Extraction:</b>"
   ]
  },
  {
   "cell_type": "code",
   "execution_count": 244,
   "id": "3e7e0c2c",
   "metadata": {},
   "outputs": [
    {
     "name": "stdout",
     "output_type": "stream",
     "text": [
      "Bag-of-words features shape: (2371, 6735)\n",
      "TF-IDF features shape: (2371, 6735)\n"
     ]
    }
   ],
   "source": [
    "import pandas as pd\n",
    "from sklearn.feature_extraction.text import CountVectorizer, TfidfVectorizer\n",
    "\n",
    "# Load the preprocessed data from the CSV file\n",
    "tweet_data = pd.read_csv(\"tweets_dataset_preprocessed.csv\")\n",
    "\n",
    "# Extract bag-of-words features\n",
    "vectorizer = CountVectorizer()\n",
    "bow_features = vectorizer.fit_transform(tweet_data['Tweet'])\n",
    "\n",
    "# Extract TF-IDF features\n",
    "tfidf_vectorizer = TfidfVectorizer()\n",
    "tfidf_features = tfidf_vectorizer.fit_transform(tweet_data['Tweet'])\n",
    "\n",
    "# Print the shape of the feature matrices\n",
    "print(f\"Bag-of-words features shape: {bow_features.shape}\")\n",
    "print(f\"TF-IDF features shape: {tfidf_features.shape}\")\n"
   ]
  },
  {
   "cell_type": "markdown",
   "id": "9d8576e1",
   "metadata": {},
   "source": [
    "<b>Sentiment Analysis</b>"
   ]
  },
  {
   "cell_type": "code",
   "execution_count": 245,
   "id": "169f2d39",
   "metadata": {},
   "outputs": [],
   "source": [
    "import pandas as pd\n",
    "from transformers import pipeline, AutoModelForSequenceClassification, AutoTokenizer\n",
    "\n",
    "tweet_data = pd.read_csv(\"tweets_dataset_preprocessed.csv\")\n",
    "\n",
    "tweets = tweet_data[\"Tweet\"].tolist()\n",
    "\n",
    "model_name = \"distilbert-base-uncased-finetuned-sst-2-english\"\n",
    "model = AutoModelForSequenceClassification.from_pretrained(model_name)\n",
    "tokenizer = AutoTokenizer.from_pretrained(model_name)\n",
    "\n",
    "nlp = pipeline(\"sentiment-analysis\", model=model, tokenizer=tokenizer)\n",
    "\n",
    "sentiments = nlp(tweets)\n",
    "\n",
    "tweet_data[\"sentiment\"] = [sentiment[\"label\"] for sentiment in sentiments]\n",
    "tweet_data.to_csv(\"tweets_dataset_preprocessed.csv\", index=False)\n"
   ]
  },
  {
   "cell_type": "markdown",
   "id": "c5ef36b1",
   "metadata": {},
   "source": [
    "<b>Model Implementation</b>"
   ]
  },
  {
   "cell_type": "code",
   "execution_count": 247,
   "id": "69b64492",
   "metadata": {
    "scrolled": true
   },
   "outputs": [
    {
     "name": "stdout",
     "output_type": "stream",
     "text": [
      "Epoch 1/25\n",
      "30/30 [==============================] - 34s 865ms/step - loss: 0.6663 - accuracy: 0.6150 - val_loss: 0.6201 - val_accuracy: 0.6943\n",
      "Epoch 2/25\n",
      "30/30 [==============================] - 25s 836ms/step - loss: 0.5980 - accuracy: 0.6943 - val_loss: 0.5728 - val_accuracy: 0.7177\n",
      "Epoch 3/25\n",
      "30/30 [==============================] - 25s 829ms/step - loss: 0.5231 - accuracy: 0.7240 - val_loss: 0.5928 - val_accuracy: 0.7192\n",
      "Epoch 4/25\n",
      "30/30 [==============================] - 24s 811ms/step - loss: 0.4789 - accuracy: 0.7479 - val_loss: 0.6505 - val_accuracy: 0.7232\n",
      "Epoch 5/25\n",
      "30/30 [==============================] - 24s 813ms/step - loss: 0.4570 - accuracy: 0.7563 - val_loss: 0.6751 - val_accuracy: 0.7196\n",
      "Epoch 6/25\n",
      "30/30 [==============================] - 24s 816ms/step - loss: 0.4430 - accuracy: 0.7613 - val_loss: 0.7660 - val_accuracy: 0.7259\n",
      "Epoch 7/25\n",
      "30/30 [==============================] - 25s 827ms/step - loss: 0.4376 - accuracy: 0.7635 - val_loss: 0.7761 - val_accuracy: 0.7237\n",
      "Epoch 8/25\n",
      "30/30 [==============================] - 24s 812ms/step - loss: 0.4351 - accuracy: 0.7651 - val_loss: 0.8308 - val_accuracy: 0.7245\n",
      "Epoch 9/25\n",
      "30/30 [==============================] - 24s 806ms/step - loss: 0.4315 - accuracy: 0.7656 - val_loss: 0.8830 - val_accuracy: 0.7278\n",
      "Epoch 10/25\n",
      "30/30 [==============================] - 24s 798ms/step - loss: 0.4302 - accuracy: 0.7660 - val_loss: 0.9235 - val_accuracy: 0.7254\n",
      "Epoch 11/25\n",
      "30/30 [==============================] - 24s 804ms/step - loss: 0.4285 - accuracy: 0.7669 - val_loss: 0.9471 - val_accuracy: 0.7274\n",
      "Epoch 12/25\n",
      "30/30 [==============================] - 27s 896ms/step - loss: 0.4309 - accuracy: 0.7664 - val_loss: 0.8932 - val_accuracy: 0.7275\n",
      "Epoch 13/25\n",
      "30/30 [==============================] - 26s 862ms/step - loss: 0.4277 - accuracy: 0.7674 - val_loss: 0.9480 - val_accuracy: 0.7262\n",
      "Epoch 14/25\n",
      "30/30 [==============================] - 25s 835ms/step - loss: 0.4262 - accuracy: 0.7674 - val_loss: 0.9987 - val_accuracy: 0.7272\n",
      "Epoch 15/25\n",
      "30/30 [==============================] - 24s 809ms/step - loss: 0.4278 - accuracy: 0.7675 - val_loss: 1.0118 - val_accuracy: 0.7259\n",
      "Epoch 16/25\n",
      "30/30 [==============================] - 23s 757ms/step - loss: 0.4283 - accuracy: 0.7670 - val_loss: 0.9844 - val_accuracy: 0.7284\n",
      "Epoch 17/25\n",
      "30/30 [==============================] - 23s 781ms/step - loss: 0.4270 - accuracy: 0.7676 - val_loss: 1.0498 - val_accuracy: 0.7154\n",
      "Epoch 18/25\n",
      "30/30 [==============================] - 23s 778ms/step - loss: 0.4304 - accuracy: 0.7671 - val_loss: 0.8683 - val_accuracy: 0.7337\n",
      "Epoch 19/25\n",
      "30/30 [==============================] - 23s 780ms/step - loss: 0.4322 - accuracy: 0.7650 - val_loss: 0.7897 - val_accuracy: 0.7279\n",
      "Epoch 20/25\n",
      "30/30 [==============================] - 23s 779ms/step - loss: 0.4271 - accuracy: 0.7673 - val_loss: 0.8678 - val_accuracy: 0.7215\n",
      "Epoch 21/25\n",
      "30/30 [==============================] - 23s 780ms/step - loss: 0.4268 - accuracy: 0.7675 - val_loss: 0.8988 - val_accuracy: 0.7236\n",
      "Epoch 22/25\n",
      "30/30 [==============================] - 24s 789ms/step - loss: 0.4245 - accuracy: 0.7684 - val_loss: 0.9367 - val_accuracy: 0.7227\n",
      "Epoch 23/25\n",
      "30/30 [==============================] - 24s 785ms/step - loss: 0.4247 - accuracy: 0.7686 - val_loss: 0.9595 - val_accuracy: 0.7279\n",
      "Epoch 24/25\n",
      "30/30 [==============================] - 24s 796ms/step - loss: 0.4231 - accuracy: 0.7688 - val_loss: 0.9577 - val_accuracy: 0.7296\n",
      "Epoch 25/25\n",
      "30/30 [==============================] - 24s 798ms/step - loss: 0.4230 - accuracy: 0.7690 - val_loss: 0.9977 - val_accuracy: 0.7297\n"
     ]
    },
    {
     "data": {
      "text/plain": [
       "<keras.callbacks.History at 0x239e9fc7940>"
      ]
     },
     "execution_count": 247,
     "metadata": {},
     "output_type": "execute_result"
    }
   ],
   "source": [
    "import pandas as pd\n",
    "import numpy as np\n",
    "from tensorflow.keras.preprocessing.text import Tokenizer\n",
    "from tensorflow.keras.preprocessing.sequence import pad_sequences\n",
    "from tensorflow.keras.models import Sequential\n",
    "from tensorflow.keras.layers import Embedding, LSTM, Conv1D, MaxPooling1D, GRU, Dense, Dropout\n",
    "from tensorflow.keras.optimizers import Adam\n",
    "from sklearn.model_selection import train_test_split\n",
    "from sklearn.preprocessing import LabelEncoder\n",
    "\n",
    "\n",
    "tweet_data = pd.read_csv(\"tweets_dataset_preprocessed.csv\")\n",
    "\n",
    "label_encoder = LabelEncoder()\n",
    "\n",
    "tweet_data['sentiment'] = label_encoder.fit_transform(tweet_data['sentiment'])\n",
    "\n",
    "tokenizer = Tokenizer()\n",
    "tokenizer.fit_on_texts(tweet_data['Tweet'])\n",
    "sequences = tokenizer.texts_to_sequences(tweet_data['Tweet'])\n",
    "\n",
    "max_sequence_length = max(len(seq) for seq in sequences)\n",
    "padded_sequences = pad_sequences(sequences, maxlen=max_sequence_length)\n",
    "\n",
    "X_train, X_test, y_train, y_test = train_test_split(padded_sequences, tweet_data['sentiment'], test_size=0.2, random_state=42)\n",
    "\n",
    "model = Sequential()\n",
    "model.add(Embedding(input_dim=len(tokenizer.word_index) + 1, output_dim=100, input_length=max_sequence_length))\n",
    "model.add(LSTM(256, return_sequences=True))\n",
    "model.add(Conv1D(256, 3, activation='relu'))\n",
    "model.add(MaxPooling1D(2))\n",
    "model.add(GRU(128, return_sequences=True))\n",
    "model.add(Dropout(0.5))\n",
    "model.add(Dense(128, activation='relu'))\n",
    "model.add(Dropout(0.5))\n",
    "model.add(Dense(1, activation='sigmoid'))\n",
    "\n",
    "model.compile(loss='binary_crossentropy', optimizer=Adam(learning_rate=0.001), metrics=['accuracy'])\n",
    "model.fit(X_train, y_train, validation_data=(X_test, y_test), epochs=25, batch_size=64)"
   ]
  },
  {
   "cell_type": "markdown",
   "id": "1170d500",
   "metadata": {},
   "source": [
    "<b>Sentiment Analysis on New Sentences</b>"
   ]
  },
  {
   "cell_type": "code",
   "execution_count": 254,
   "id": "37b479b0",
   "metadata": {},
   "outputs": [
    {
     "name": "stdout",
     "output_type": "stream",
     "text": [
      "1/1 [==============================] - 0s 79ms/step\n",
      "Sentence:  I love this movie\n",
      "Predicted Sentiment:  Positive\n",
      "\n",
      "Sentence:  The food at the restaurant was horrible and gave me bad food poisoning.\n",
      "Predicted Sentiment:  Neutral\n",
      "\n",
      "Sentence:  The food at the restaurant was amazing\n",
      "Predicted Sentiment:  Positive\n",
      "\n",
      "Sentence:  I can't believe how bad the service was\n",
      "Predicted Sentiment:  Neutral\n",
      "\n",
      "Sentence:  This book is so amazing\n",
      "Predicted Sentiment:  Negative\n",
      "\n",
      "Sentence:  The concert was incredible\n",
      "Predicted Sentiment:  Negative\n",
      "\n",
      "Sentence:  I'm feeling really exhausted\n",
      "Predicted Sentiment:  Neutral\n",
      "\n",
      "Sentence:  The traffic jam ruined my day\n",
      "Predicted Sentiment:  Negative\n",
      "\n",
      "Sentence:  The party was excellent yesterday\n",
      "Predicted Sentiment:  Positive\n",
      "\n",
      "Sentence:  I had a terrible experience at the theme park\n",
      "Predicted Sentiment:  Neutral\n",
      "\n",
      "Sentence:  The weather today is irritating to spend time outside.\n",
      "Predicted Sentiment:  Negative\n",
      "\n",
      "Sentence:  The sky is blue and the grass is green.\n",
      "Predicted Sentiment:  Neutral\n",
      "\n"
     ]
    }
   ],
   "source": [
    "import numpy as np\n",
    "from tensorflow.keras.models import load_model\n",
    "from tensorflow.keras.preprocessing.sequence import pad_sequences\n",
    "\n",
    "sentences = [\n",
    "    \"I love this movie\",\n",
    "    \"The food at the restaurant was horrible and gave me bad food poisoning.\",\n",
    "    \"The food at the restaurant was amazing\",\n",
    "    \"I can't believe how bad the service was\",\n",
    "    \"This book is so amazing\",\n",
    "    \"The concert was incredible\",\n",
    "    \"I'm feeling really exhausted\",\n",
    "    \"The traffic jam ruined my day\",\n",
    "    \"The party was excellent yesterday\",\n",
    "    \"I had a terrible experience at the theme park\",\n",
    "    \"The weather today is irritating to spend time outside.\",\n",
    "    \"The sky is blue and the grass is green.\"\n",
    "]\n",
    "\n",
    "tokenizer = Tokenizer()\n",
    "tokenizer.fit_on_texts(sentences)\n",
    "\n",
    "sequences = tokenizer.texts_to_sequences(sentences)\n",
    "max_length = max(len(seq) for seq in sequences)\n",
    "\n",
    "padded_sequences = pad_sequences(sequences, maxlen=55, padding='post')\n",
    "\n",
    "predictions = model.predict(padded_sequences)\n",
    "\n",
    "sentiment_labels = [\"Negative\", \"Positive\"]\n",
    "predicted_sentiments = [sentiment_labels[np.argmax(pred)] if np.argmax(pred) < len(sentiment_labels) else \"Neutral\" for pred in predictions]\n",
    "\n",
    "for sentence, sentiment in zip(sentences, predicted_sentiments):\n",
    "    print(\"Sentence: \", sentence)\n",
    "    print(\"Predicted Sentiment: \", sentiment)\n",
    "    print()\n"
   ]
  },
  {
   "cell_type": "markdown",
   "id": "8103b8de",
   "metadata": {},
   "source": [
    "<b>Results and evaluation metrics</b>"
   ]
  },
  {
   "cell_type": "code",
   "execution_count": 32,
   "id": "0fbb6662",
   "metadata": {},
   "outputs": [
    {
     "name": "stdout",
     "output_type": "stream",
     "text": [
      "Classification report: \n",
      "              precision    recall  f1-score   support\n",
      "\n",
      "           0       0.85      0.79      0.82       183\n",
      "           1       0.80      0.85      0.82       178\n",
      "\n",
      "    accuracy                           0.82       361\n",
      "   macro avg       0.82      0.82      0.82       361\n",
      "weighted avg       0.82      0.82      0.82       361\n",
      "\n"
     ]
    }
   ],
   "source": [
    "print(\"Classification report: \")\n",
    "print(classification_report(y_test, y_pred))\n"
   ]
  },
  {
   "cell_type": "code",
   "execution_count": 33,
   "id": "6ce9ee98",
   "metadata": {},
   "outputs": [
    {
     "data": {
      "image/png": "[encoded data removed]",
      "text/plain": [
       "<Figure size 640x480 with 1 Axes>"
      ]
     },
     "metadata": {},
     "output_type": "display_data"
    }
   ],
   "source": [
    "import seaborn as sns\n",
    "from sklearn.metrics import confusion_matrix\n",
    "\n",
    "# Compute the confusion matrix\n",
    "cm = confusion_matrix(y_test, y_pred)\n",
    "\n",
    "# Plot the confusion matrix using a heatmap\n",
    "sns.heatmap(cm, annot=True, cmap=\"Blues\", fmt=\"d\", cbar=False, annot_kws={\"size\": 16}, \n",
    "            xticklabels=label_encoder.classes_, yticklabels=label_encoder.classes_)\n",
    "plt.xlabel('Predicted', fontsize=14)\n",
    "plt.ylabel('Actual', fontsize=14)\n",
    "plt.show()\n"
   ]
  },
  {
   "cell_type": "code",
   "execution_count": 37,
   "id": "3ee1e876",
   "metadata": {
    "scrolled": false
   },
   "outputs": [
    {
     "data": {
      "image/png": "[encoded data removed]",
      "text/plain": [
       "<Figure size 640x480 with 1 Axes>"
      ]
     },
     "metadata": {},
     "output_type": "display_data"
    },
    {
     "data": {
      "image/png": "[encoded data removed]",
      "text/plain": [
       "<Figure size 640x480 with 1 Axes>"
      ]
     },
     "metadata": {},
     "output_type": "display_data"
    }
   ],
   "source": [
    "import matplotlib.pyplot as plt\n",
    "\n",
    "plt.plot(history.history['accuracy'])\n",
    "plt.plot(history.history['val_accuracy'])\n",
    "plt.title('Model accuracy')\n",
    "plt.ylabel('Accuracy')\n",
    "plt.xlabel('Epoch')\n",
    "plt.legend(['Train', 'Validation'], loc='upper left')\n",
    "plt.show()\n",
    "\n",
    "plt.plot(history.history['loss'])\n",
    "plt.title('Model loss')\n",
    "plt.ylabel('Loss')\n",
    "plt.xlabel('Epoch')\n",
    "plt.legend(['Train'], loc='upper left')\n",
    "plt.show()\n"
   ]
  }
 ],
 "metadata": {
  "kernelspec": {
   "display_name": "Python 3 (ipykernel)",
   "language": "python",
   "name": "python3"
  },
  "language_info": {
   "codemirror_mode": {
    "name": "ipython",
    "version": 3
   },
   "file_extension": ".py",
   "mimetype": "text/x-python",
   "name": "python",
   "nbconvert_exporter": "python",
   "pygments_lexer": "ipython3",
   "version": "3.9.13"
  }
 },
 "nbformat": 4,
 "nbformat_minor": 5
}
